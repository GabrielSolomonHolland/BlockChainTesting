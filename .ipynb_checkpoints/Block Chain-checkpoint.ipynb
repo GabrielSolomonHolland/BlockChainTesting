{
 "cells": [
  {
   "cell_type": "code",
   "execution_count": null,
   "id": "sublime-channel",
   "metadata": {},
   "outputs": [],
   "source": [
    "#Testing the actual chain\n",
    "\n",
    "my_blockchain = MinimalBlockChain()\n",
    "my_blockchain.add_block('OG Block')\n",
    "\n",
    "print(my_blockchain.blocks)\n",
    "\n",
    "my_blockchain.add_block('Never Going To Give You Up')\n",
    "my_blockchain.add_block(\"Never Going To Let You Down\")\n",
    "\n",
    "print(my_blockchain.verify())\n",
    "\n",
    "#Make a bad block chain\n",
    "my_blockchain.blocks[1], my_blockchain.blocks[2] = my_blockchain.blocks[2], my_blockchain.blocks[1]\n"
   ]
  }
 ],
 "metadata": {
  "kernelspec": {
   "display_name": "Python 3",
   "language": "python",
   "name": "python3"
  },
  "language_info": {
   "codemirror_mode": {
    "name": "ipython",
    "version": 3
   },
   "file_extension": ".py",
   "mimetype": "text/x-python",
   "name": "python",
   "nbconvert_exporter": "python",
   "pygments_lexer": "ipython3",
   "version": "3.9.1"
  }
 },
 "nbformat": 4,
 "nbformat_minor": 5
}
