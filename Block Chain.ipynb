{
 "cells": [
  {
   "cell_type": "code",
   "execution_count": 71,
   "id": "heated-modern",
   "metadata": {},
   "outputs": [
    {
     "name": "stdout",
     "output_type": "stream",
     "text": [
      "[<__main__.MinimalBlock object at 0x000001D4FA0C3A00>, <__main__.MinimalBlock object at 0x000001D4FA00AEB0>]\n"
     ]
    },
    {
     "ename": "TypeError",
     "evalue": "'list' object is not callable",
     "output_type": "error",
     "traceback": [
      "\u001b[1;31m---------------------------------------------------------------------------\u001b[0m",
      "\u001b[1;31mTypeError\u001b[0m                                 Traceback (most recent call last)",
      "\u001b[1;32m<ipython-input-71-aa3e38ba1129>\u001b[0m in \u001b[0;36m<module>\u001b[1;34m\u001b[0m\n\u001b[0;32m      8\u001b[0m \u001b[0mmy_blockchain\u001b[0m\u001b[1;33m.\u001b[0m\u001b[0madd_block\u001b[0m\u001b[1;33m(\u001b[0m\u001b[1;34m\"Never Going To Let You Down\"\u001b[0m\u001b[1;33m)\u001b[0m\u001b[1;33m\u001b[0m\u001b[1;33m\u001b[0m\u001b[0m\n\u001b[0;32m      9\u001b[0m \u001b[1;33m\u001b[0m\u001b[0m\n\u001b[1;32m---> 10\u001b[1;33m \u001b[0mprint\u001b[0m\u001b[1;33m(\u001b[0m\u001b[0mmy_blockchain\u001b[0m\u001b[1;33m.\u001b[0m\u001b[0mverify\u001b[0m\u001b[1;33m(\u001b[0m\u001b[1;33m)\u001b[0m\u001b[1;33m)\u001b[0m\u001b[1;33m\u001b[0m\u001b[1;33m\u001b[0m\u001b[0m\n\u001b[0m\u001b[0;32m     11\u001b[0m \u001b[1;33m\u001b[0m\u001b[0m\n\u001b[0;32m     12\u001b[0m \u001b[1;31m#Make a bad block chain\u001b[0m\u001b[1;33m\u001b[0m\u001b[1;33m\u001b[0m\u001b[1;33m\u001b[0m\u001b[0m\n",
      "\u001b[1;32m<ipython-input-70-2d5b0ae0bd5f>\u001b[0m in \u001b[0;36mverify\u001b[1;34m(self, verbose)\u001b[0m\n\u001b[0;32m     35\u001b[0m \u001b[1;33m\u001b[0m\u001b[0m\n\u001b[0;32m     36\u001b[0m             \u001b[1;31m#What if someone replaces a block with another valid block in the same place\u001b[0m\u001b[1;33m\u001b[0m\u001b[1;33m\u001b[0m\u001b[1;33m\u001b[0m\u001b[0m\n\u001b[1;32m---> 37\u001b[1;33m             \u001b[1;32mif\u001b[0m\u001b[1;33m(\u001b[0m\u001b[0mself\u001b[0m\u001b[1;33m.\u001b[0m\u001b[0mblocks\u001b[0m\u001b[1;33m[\u001b[0m\u001b[0mi\u001b[0m\u001b[1;33m]\u001b[0m\u001b[1;33m.\u001b[0m\u001b[0mprevious_hash\u001b[0m \u001b[1;33m!=\u001b[0m \u001b[0mself\u001b[0m\u001b[1;33m.\u001b[0m\u001b[0mblocks\u001b[0m\u001b[1;33m(\u001b[0m\u001b[0mi\u001b[0m\u001b[1;33m-\u001b[0m\u001b[1;36m1\u001b[0m\u001b[1;33m)\u001b[0m\u001b[1;33m.\u001b[0m\u001b[0mhash\u001b[0m\u001b[1;33m)\u001b[0m\u001b[1;33m:\u001b[0m\u001b[1;33m\u001b[0m\u001b[1;33m\u001b[0m\u001b[0m\n\u001b[0m\u001b[0;32m     38\u001b[0m                 \u001b[0misvalid\u001b[0m \u001b[1;33m=\u001b[0m \u001b[1;32mFalse\u001b[0m\u001b[1;33m\u001b[0m\u001b[1;33m\u001b[0m\u001b[0m\n\u001b[0;32m     39\u001b[0m                 \u001b[1;32mif\u001b[0m \u001b[0mverbose\u001b[0m\u001b[1;33m:\u001b[0m\u001b[1;33m\u001b[0m\u001b[1;33m\u001b[0m\u001b[0m\n",
      "\u001b[1;31mTypeError\u001b[0m: 'list' object is not callable"
     ]
    }
   ],
   "source": [
    "#Testing the actual chain\n",
    "my_blockchain = MinimalBlockChain()\n",
    "my_blockchain.add_block('OG Block')\n",
    "\n",
    "print(my_blockchain.blocks)\n",
    "\n",
    "my_blockchain.add_block('Never Going To Give You Up')\n",
    "my_blockchain.add_block(\"Never Going To Let You Down\")\n",
    "\n",
    "print(my_blockchain.verify())\n",
    "\n",
    "#Make a bad block chain\n",
    "my_blockchain.blocks[1], my_blockchain.blocks[2] = my_blockchain.blocks[2], my_blockchain.blocks[1]\n",
    "\n",
    "#Verify\n",
    "print(myblockchain.verify())\n"
   ]
  },
  {
   "cell_type": "code",
   "execution_count": 69,
   "id": "thirty-preview",
   "metadata": {},
   "outputs": [],
   "source": [
    "#Python\n",
    "import hashlib\t\t#Hashing import <3\n",
    "import datetime\n",
    "\n",
    "#Individual block\n",
    "class MinimalBlock:\n",
    "\n",
    "\t#Constructor\n",
    "    def __init__(self, index, timestamp, payload, prev_hash):\n",
    "        self.index = index\n",
    "        self.timestamp = timestamp\n",
    "        self.data = payload\n",
    "        self.previous_hash = prev_hash\n",
    "        self.hash = self.hashVal()\n",
    "        \n",
    "        \n",
    "    #Generate a new hash value using old hash\n",
    "    def hashVal(self):\n",
    "        key = hashlib.sha256()\n",
    "        key.update(str(self.index).encode('utf-8'))\n",
    "        key.update(str(self.timestamp).encode('utf-8'))\n",
    "        key.update(str(self.data).encode('utf-8'))\n",
    "        key.update(str(self.previous_hash).encode('utf-8'))\n",
    "        return key.hexdigest()\t\n",
    "\n",
    "    #Allow self validation\n",
    "    def self_validate(self):\n",
    "        return self.hashVal() == self.hash\n"
   ]
  },
  {
   "cell_type": "code",
   "execution_count": 72,
   "id": "mathematical-medicine",
   "metadata": {},
   "outputs": [],
   "source": [
    "#Block chain code\n",
    "class MinimalBlockChain:\n",
    "\n",
    "    #Constructor\n",
    "    def __init__(self):\n",
    "        self.blocks=[self.get_genesis_block()]\n",
    "    \n",
    "    #Get beginning\n",
    "    def get_genesis_block(self):\n",
    "        return MinimalBlock(0, datetime.datetime.now(), 'KoolKryptoKurrency', 'LandOfConfusion')\n",
    "\n",
    "    #Add blocks\n",
    "    def add_block(self, data):\n",
    "        self.blocks.append(MinimalBlock(len(self.blocks), datetime.datetime.now(), data, self.blocks[-1].hash))\n",
    "        \n",
    "    #Verify\n",
    "    def verify(self, verbose=True):\n",
    "        isvalid = True\n",
    "        \n",
    "        #Iterate over entire block chain\n",
    "        for i in range(1, len(self.blocks)):\n",
    "            \n",
    "            #Make sure blocks haven't been moved\n",
    "            if(i != self.blocks[i].index):\n",
    "                isvalid = False\n",
    "                if verbose:\n",
    "                   #Alternately 'Wrong block at index()'.format(i)\n",
    "                   print(f'Wrong block index at block {i}')\n",
    "               \n",
    "            #Self validate\n",
    "            if not self.blocks[i].self_validate():\n",
    "                isvalid = False\n",
    "                if verbose:\n",
    "                    print(f'Block at index {i} failed to self validate, content changed')\n",
    "                    \n",
    "            #What if someone replaces a block with another valid block in the same place\n",
    "            if(self.blocks[i].previous_hash != self.blocks[i-1].hash):\n",
    "                isvalid = False\n",
    "                if verbose:\n",
    "                    print(f'Wrong previous hash at block {i}')\n",
    "                    \n",
    "            #Make sure timestamps are in correct order\n",
    "            if(self.blocks[i].timestamp<=self.blocks[i-1].timestamp):\n",
    "                isvalid = False\n",
    "                if verbose:\n",
    "                    print(f'Block {i} backdated')\n",
    "        return isvalid"
   ]
  },
  {
   "cell_type": "code",
   "execution_count": null,
   "id": "rubber-tamil",
   "metadata": {},
   "outputs": [],
   "source": []
  }
 ],
 "metadata": {
  "kernelspec": {
   "display_name": "Python 3",
   "language": "python",
   "name": "python3"
  },
  "language_info": {
   "codemirror_mode": {
    "name": "ipython",
    "version": 3
   },
   "file_extension": ".py",
   "mimetype": "text/x-python",
   "name": "python",
   "nbconvert_exporter": "python",
   "pygments_lexer": "ipython3",
   "version": "3.9.1"
  }
 },
 "nbformat": 4,
 "nbformat_minor": 5
}
