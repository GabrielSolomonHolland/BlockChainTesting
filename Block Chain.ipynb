{
 "cells": [
  {
   "cell_type": "code",
   "execution_count": 40,
   "id": "lonely-symbol",
   "metadata": {},
   "outputs": [
    {
     "ename": "TypeError",
     "evalue": "__init__() missing 3 required positional arguments: 'timestamp', 'payload', and 'prev_hash'",
     "output_type": "error",
     "traceback": [
      "\u001b[1;31m---------------------------------------------------------------------------\u001b[0m",
      "\u001b[1;31mTypeError\u001b[0m                                 Traceback (most recent call last)",
      "\u001b[1;32m<ipython-input-40-aa3e38ba1129>\u001b[0m in \u001b[0;36m<module>\u001b[1;34m\u001b[0m\n\u001b[0;32m      1\u001b[0m \u001b[1;31m#Testing the actual chain\u001b[0m\u001b[1;33m\u001b[0m\u001b[1;33m\u001b[0m\u001b[1;33m\u001b[0m\u001b[0m\n\u001b[0;32m      2\u001b[0m \u001b[0mmy_blockchain\u001b[0m \u001b[1;33m=\u001b[0m \u001b[0mMinimalBlockChain\u001b[0m\u001b[1;33m(\u001b[0m\u001b[1;33m)\u001b[0m\u001b[1;33m\u001b[0m\u001b[1;33m\u001b[0m\u001b[0m\n\u001b[1;32m----> 3\u001b[1;33m \u001b[0mmy_blockchain\u001b[0m\u001b[1;33m.\u001b[0m\u001b[0madd_block\u001b[0m\u001b[1;33m(\u001b[0m\u001b[1;34m'OG Block'\u001b[0m\u001b[1;33m)\u001b[0m\u001b[1;33m\u001b[0m\u001b[1;33m\u001b[0m\u001b[0m\n\u001b[0m\u001b[0;32m      4\u001b[0m \u001b[1;33m\u001b[0m\u001b[0m\n\u001b[0;32m      5\u001b[0m \u001b[0mprint\u001b[0m\u001b[1;33m(\u001b[0m\u001b[0mmy_blockchain\u001b[0m\u001b[1;33m.\u001b[0m\u001b[0mblocks\u001b[0m\u001b[1;33m)\u001b[0m\u001b[1;33m\u001b[0m\u001b[1;33m\u001b[0m\u001b[0m\n",
      "\u001b[1;32m<ipython-input-34-3ad89ec19d0e>\u001b[0m in \u001b[0;36madd_block\u001b[1;34m(self, data)\u001b[0m\n\u001b[0;32m     12\u001b[0m     \u001b[1;31m#Add blocks\u001b[0m\u001b[1;33m\u001b[0m\u001b[1;33m\u001b[0m\u001b[1;33m\u001b[0m\u001b[0m\n\u001b[0;32m     13\u001b[0m     \u001b[1;32mdef\u001b[0m \u001b[0madd_block\u001b[0m\u001b[1;33m(\u001b[0m\u001b[0mself\u001b[0m\u001b[1;33m,\u001b[0m \u001b[0mdata\u001b[0m\u001b[1;33m)\u001b[0m\u001b[1;33m:\u001b[0m\u001b[1;33m\u001b[0m\u001b[1;33m\u001b[0m\u001b[0m\n\u001b[1;32m---> 14\u001b[1;33m         \u001b[0mself\u001b[0m\u001b[1;33m.\u001b[0m\u001b[0mblocks\u001b[0m\u001b[1;33m.\u001b[0m\u001b[0mappend\u001b[0m\u001b[1;33m(\u001b[0m\u001b[0mMinimalBlock\u001b[0m\u001b[1;33m(\u001b[0m\u001b[0mself\u001b[0m\u001b[1;33m.\u001b[0m\u001b[0mblocks\u001b[0m\u001b[1;33m)\u001b[0m\u001b[1;33m,\u001b[0m \u001b[0mdatetime\u001b[0m\u001b[1;33m.\u001b[0m\u001b[0mdatetime\u001b[0m\u001b[1;33m.\u001b[0m\u001b[0mnow\u001b[0m\u001b[1;33m(\u001b[0m\u001b[1;33m)\u001b[0m\u001b[1;33m,\u001b[0m \u001b[0mdata\u001b[0m\u001b[1;33m,\u001b[0m \u001b[0mself\u001b[0m\u001b[1;33m.\u001b[0m\u001b[0mblocks\u001b[0m\u001b[1;33m[\u001b[0m\u001b[1;33m-\u001b[0m\u001b[1;36m1\u001b[0m\u001b[1;33m]\u001b[0m\u001b[1;33m.\u001b[0m\u001b[0mhash\u001b[0m\u001b[1;33m)\u001b[0m\u001b[1;33m\u001b[0m\u001b[1;33m\u001b[0m\u001b[0m\n\u001b[0m\u001b[0;32m     15\u001b[0m \u001b[1;33m\u001b[0m\u001b[0m\n\u001b[0;32m     16\u001b[0m     \u001b[1;31m#Verify\u001b[0m\u001b[1;33m\u001b[0m\u001b[1;33m\u001b[0m\u001b[1;33m\u001b[0m\u001b[0m\n",
      "\u001b[1;31mTypeError\u001b[0m: __init__() missing 3 required positional arguments: 'timestamp', 'payload', and 'prev_hash'"
     ]
    }
   ],
   "source": [
    "#Testing the actual chain\n",
    "my_blockchain = MinimalBlockChain()\n",
    "my_blockchain.add_block('OG Block')\n",
    "\n",
    "print(my_blockchain.blocks)\n",
    "\n",
    "my_blockchain.add_block('Never Going To Give You Up')\n",
    "my_blockchain.add_block(\"Never Going To Let You Down\")\n",
    "\n",
    "print(my_blockchain.verify())\n",
    "\n",
    "#Make a bad block chain\n",
    "my_blockchain.blocks[1], my_blockchain.blocks[2] = my_blockchain.blocks[2], my_blockchain.blocks[1]\n",
    "\n",
    "#Verify\n",
    "print(myblockchain.verify())\n"
   ]
  },
  {
   "cell_type": "code",
   "execution_count": 39,
   "id": "advance-greenhouse",
   "metadata": {},
   "outputs": [],
   "source": [
    "#Python\n",
    "import hashlib\t\t#Hashing import <3\n",
    "import datetime\n",
    "\n",
    "#Individual block\n",
    "class MinimalBlock:\n",
    "\n",
    "\t#Constructor\n",
    "\tdef __init__(self, index, timestamp, payload, prev_hash):\n",
    "\t\tself.index = index\n",
    "\t\tself.timestamp = timestamp\n",
    "\t\tself.data = payload\n",
    "\t\tself.previous_hash = prev_hash\n",
    "\n",
    "\t#Generate a new hash value using old hash\n",
    "\tdef hashVal(self):\n",
    "\t\tkey = hashlib.sha256()\n",
    "\t\tkey.update(str(self.index).encode('utf-8'))\n",
    "\t\tkey.update(str(self.timestamp).encode('utf-8'))\n",
    "\t\tkey.update(str(self.data).encode('utf-8'))\n",
    "\t\tkey.update(str(self.previous_hash).encode('utf-8'))\n",
    "\t\treturn key.hexdigest()\t\n",
    "\n",
    "\t#Allow self validation\n",
    "\tdef self_validate(self):\n",
    "\t\treturn self.hashval() == self.hash\n"
   ]
  },
  {
   "cell_type": "code",
   "execution_count": 34,
   "id": "spectacular-intermediate",
   "metadata": {},
   "outputs": [],
   "source": [
    "#Block chain code\n",
    "class MinimalBlockChain:\n",
    "\n",
    "    #Constructor\n",
    "    def __init__(self):\n",
    "        self.blocks=[self.get_genesis_block()]\n",
    "    \n",
    "    #Get beginning\n",
    "    def get_genesis_block(self):\n",
    "        return MinimalBlock(0, datetime.datetime.now(), 'KoolKryptoKurrency', 'LandOfConfusion')\n",
    "\n",
    "    #Add blocks\n",
    "    def add_block(self, data):\n",
    "        self.blocks.append(MinimalBlock(self.blocks), datetime.datetime.now(), data, self.blocks[-1].hash)\n",
    "\n",
    "    #Verify\n",
    "    def verify(self, verbose=True):\n",
    "        isvalid = True\n",
    "        \n",
    "        #Iterate over entire block chain\n",
    "        for i in range(1, len(self.blocks)):\n",
    "            \n",
    "            #Make sure blocks haven't been moved\n",
    "            if(i != self.blocks[i].index):\n",
    "                isvalid = False\n",
    "                if verbose:\n",
    "                   #Alternately 'Wrong block at index()'.format(i)\n",
    "                   print(f'Wrong block index at block {i}')\n",
    "               \n",
    "            if not self.blocks[i].self_validate():\n",
    "                isvalid = False\n",
    "                if verbose:\n",
    "                    print(f'Block at index {i} failed to self validate, content changed')\n",
    "                    \n",
    "            #What if someone replaces a block with another valid block in the same place\n",
    "            if(self.blocks[i].previous_hash != self.blocks(i-1).hash):\n",
    "                isvalid = False\n",
    "                if verbose:\n",
    "                    print(f'Wrong previous hash at block {i}')\n",
    "                    \n",
    "            #Make sure timestamps are in correct order\n",
    "            if(self.blocks[i].timestamp<=self.blocks[i-1].timestamp):\n",
    "                isvalid = False\n",
    "                if verbose:\n",
    "                    print(f'Block {i} backdated')\n",
    "        return isvalid"
   ]
  },
  {
   "cell_type": "code",
   "execution_count": null,
   "id": "miniature-domain",
   "metadata": {},
   "outputs": [],
   "source": []
  }
 ],
 "metadata": {
  "kernelspec": {
   "display_name": "Python 3",
   "language": "python",
   "name": "python3"
  },
  "language_info": {
   "codemirror_mode": {
    "name": "ipython",
    "version": 3
   },
   "file_extension": ".py",
   "mimetype": "text/x-python",
   "name": "python",
   "nbconvert_exporter": "python",
   "pygments_lexer": "ipython3",
   "version": "3.9.1"
  }
 },
 "nbformat": 4,
 "nbformat_minor": 5
}
